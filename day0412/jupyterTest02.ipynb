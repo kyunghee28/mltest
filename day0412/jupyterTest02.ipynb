{
 "cells": [
  {
   "cell_type": "markdown",
   "metadata": {},
   "source": [
    "# 주피터 노트북에서 TenserFlow 사용하기\n",
    "\n",
    "    - 주피터 노트북에서 TenserFlow 코드를 실행해 봅시다!"
   ]
  },
  {
   "cell_type": "code",
   "execution_count": 2,
   "metadata": {},
   "outputs": [],
   "source": [
    "import numpy as np\n",
    "import matplotlib.pyplot as plt\n",
    "import pandas as pd\n",
    "import tensorflow as tf"
   ]
  },
  {
   "cell_type": "code",
   "execution_count": 6,
   "metadata": {},
   "outputs": [
    {
     "name": "stdout",
     "output_type": "stream",
     "text": [
      "150\n"
     ]
    }
   ],
   "source": [
    "# constant => 상수 만들기\n",
    "a = tf.constant(100)\n",
    "b = tf.constant(50)\n",
    "add_op = a + b\n",
    "\n",
    "# Variable => 변수 만들기\n",
    "v = tf.Variable(0)\n",
    "\n",
    "# app_op 의 연산결과를 transerflow변수 v 에 대입 => assign\n",
    "let_op = tf.assign(v, add_op) \n",
    "\n",
    "# transerflow를 실행하기 위한 session을 생성\n",
    "sess = tf.Session()\n",
    "\n",
    "# transerflow변수(Variable)를 실행하기 위해서는 반드시 초기화!!\n",
    "sess.run(tf.global_variables_initializer())\n",
    "\n",
    "# let_op 에 지정한 수식 실행하기\n",
    "sess.run(let_op)\n",
    "\n",
    "# 연산결과갸 담긴 ranserflow변수(Variable) v 의 내용 출력\n",
    "print(sess.run(v))"
   ]
  },
  {
   "cell_type": "code",
   "execution_count": null,
   "metadata": {},
   "outputs": [],
   "source": []
  }
 ],
 "metadata": {
  "kernelspec": {
   "display_name": "Python 3",
   "language": "python",
   "name": "python3"
  },
  "language_info": {
   "codemirror_mode": {
    "name": "ipython",
    "version": 3
   },
   "file_extension": ".py",
   "mimetype": "text/x-python",
   "name": "python",
   "nbconvert_exporter": "python",
   "pygments_lexer": "ipython3",
   "version": "3.7.3"
  }
 },
 "nbformat": 4,
 "nbformat_minor": 2
}
